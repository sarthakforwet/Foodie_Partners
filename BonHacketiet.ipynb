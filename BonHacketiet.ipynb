{
  "nbformat": 4,
  "nbformat_minor": 0,
  "metadata": {
    "colab": {
      "name": "BonHacketiet.ipynb",
      "provenance": [],
      "collapsed_sections": []
    },
    "kernelspec": {
      "name": "python3",
      "display_name": "Python 3"
    }
  },
  "cells": [
    {
      "cell_type": "markdown",
      "metadata": {
        "id": "LiY0jQHql_Rc",
        "colab_type": "text"
      },
      "source": [
        "# Memory Based Collborative Filtering approach"
      ]
    },
    {
      "cell_type": "code",
      "metadata": {
        "id": "XpvT9hW-BSU6",
        "colab_type": "code",
        "colab": {
          "base_uri": "https://localhost:8080/",
          "height": 126
        },
        "outputId": "60afdaa5-e148-4313-b2be-8c6e6f0954d0"
      },
      "source": [
        "# UTILITY MODULES\n",
        "!pip install surprise"
      ],
      "execution_count": null,
      "outputs": [
        {
          "output_type": "stream",
          "text": [
            "Requirement already satisfied: surprise in /usr/local/lib/python3.6/dist-packages (0.1)\n",
            "Requirement already satisfied: scikit-surprise in /usr/local/lib/python3.6/dist-packages (from surprise) (1.1.1)\n",
            "Requirement already satisfied: numpy>=1.11.2 in /usr/local/lib/python3.6/dist-packages (from scikit-surprise->surprise) (1.18.5)\n",
            "Requirement already satisfied: joblib>=0.11 in /usr/local/lib/python3.6/dist-packages (from scikit-surprise->surprise) (0.16.0)\n",
            "Requirement already satisfied: six>=1.10.0 in /usr/local/lib/python3.6/dist-packages (from scikit-surprise->surprise) (1.15.0)\n",
            "Requirement already satisfied: scipy>=1.0.0 in /usr/local/lib/python3.6/dist-packages (from scikit-surprise->surprise) (1.4.1)\n"
          ],
          "name": "stdout"
        }
      ]
    },
    {
      "cell_type": "code",
      "metadata": {
        "id": "Qs588tqYBdPe",
        "colab_type": "code",
        "colab": {}
      },
      "source": [
        "# IMPORTS\n",
        "from surprise import Dataset, Reader, KNNBasic\n",
        "import pickle\n",
        "import numpy as np\n",
        "import pandas as pd\n",
        "import matplotlib.pyplot as plt\n",
        "from surprise import KNNWithMeans\n",
        "\n",
        "# matplotlib configrations\n",
        "%matplotlib inline\n",
        "plt.rcParams['xtick.bottom'] = plt.rcParams['xtick.labelbottom'] = False\n",
        "plt.rcParams['xtick.top'] = plt.rcParams['xtick.labeltop'] = True"
      ],
      "execution_count": 208,
      "outputs": []
    },
    {
      "cell_type": "code",
      "metadata": {
        "id": "IuMQ68gvbVWr",
        "colab_type": "code",
        "colab": {}
      },
      "source": [
        "# CONFIGS\n",
        "NUM_USERS = 8\n",
        "NUM_CUSINES = 6\n",
        "RATING_SCALE = (1, 5)\n",
        "SIM_OPT = {\"name\": \"cosine\",\n",
        "           \"user_based\": True}\n",
        "USERS = [\"Sarthak\", \"Tanya\", \"Prachi\", \"Ram\", \"Dodge\", \"Neha\", \"Samarth\", \"Andrej\"]"
      ],
      "execution_count": 168,
      "outputs": []
    },
    {
      "cell_type": "code",
      "metadata": {
        "id": "GSghdME6mOwn",
        "colab_type": "code",
        "colab": {}
      },
      "source": [
        "#UTILITY SCRIPTS\n",
        "\n",
        "def create_data(users):\n",
        "  \"\"\"Function for creating artificial dataset\n",
        "  Args:\n",
        "    - users: list or numpy array. \n",
        "      An array/list of users\n",
        "  Returns:\n",
        "  data: DataFrame instance\n",
        "  \"\"\"\n",
        "  cuisines = [\"Indian\", \"Italian\", \"French\", \"Mongolian\", \"Chinese\"]\n",
        "  data = pd.DataFrame()\n",
        "  #data[\"u_id\"] = []\n",
        "  #data[\"cusine\"] = []\n",
        "  #data[\"rating\"] = []\n",
        "  u_ids = []\n",
        "  cusines_ = []\n",
        "  ratings = []\n",
        "  for u in users:\n",
        "    #preferences = np.zeros_like(cuisines)\n",
        "    print(f\"Taking cuisine info for {u}\")\n",
        "    for i, e in enumerate(cuisines):\n",
        "      #s = float(input(f\"{e}: \"))\n",
        "      # Generate random ratings b/w 1 and 5\n",
        "      r = round(np.random.uniform(1.0, 5.0), 3)\n",
        "      u_ids.append(u)\n",
        "      cusines_.append(e)\n",
        "      ratings.append(r)\n",
        "\n",
        "  data[\"u_id\"] = u_ids\n",
        "  data[\"cusine\"] = cusines_\n",
        "  data[\"rating\"] = ratings\n",
        "  return data\n",
        "\n",
        "def get_recommendations(user_name=None, cuisines=None, age=None, location=None, gender=None, num_recommendations=5):\n",
        "  \"\"\"Function for getting recommendations by retraining the model on new cuisines\n",
        "  for a particular user and re-filter the results for the introduced constraints\n",
        "  Args:\n",
        "  user_name: str\n",
        "  Name of the user for whom recommendations are to be found out.\n",
        "  \n",
        "  cuisines: dict\n",
        "  A mapping of cuisine type to new value\n",
        "\n",
        "  age: int\n",
        "  Age range to select from\n",
        "\n",
        "  location: str\n",
        "  Location in which to go for.\n",
        "\n",
        "  gender: str\n",
        "  Gender preference\n",
        "  \"\"\"\n",
        "  #data.loc[\"u_id\"==user_name,\"cusine\"==k]\n",
        "  #assert rows.shape[0]!=0, \"User does not exist in dataset\"\n",
        "  assert len(cuisines) == NUM_CUISINES, f\"Cuisines must be {NUM_CUISINES}\"\n",
        "  data.loc[df[\"u_id\"]==user_name,\"rating\"] = list(map(float, cuisines.values()))\n",
        "\n",
        "  #print(rows)\n",
        "  #data[data[\"u_id\"]==user_name] = rows\n",
        "  #print(data[data[\"u_id\"]==user_name])\n",
        "  reader = Reader(rating_scale=RATING_SCALE)\n",
        "  dataset = Dataset.load_from_df(data[[\"u_id\", \"cusine\", \"rating\"]], reader)\n",
        "  trainset = dataset.build_full_trainset()\n",
        "\n",
        "  print(\"=\"*25)\n",
        "  print(\"Getting Recommendations ready\")\n",
        "  print(\"=\"*25)\n",
        "  \n",
        "  algo = KNNWithMeans(k=NUM_USERS//2, sim_options=SIM_OPT, verbose=1)\n",
        "  algo.fit(trainset)\n",
        "\n",
        "  # Now getting the predictions with temporarily updated dataset\n",
        "  \n",
        "  uid  = trainset.to_inner_uid(user_name)\n",
        "  pred = algo.get_neighbors(iid=uid, k=num_recommendations)\n",
        "  # When using age, location and gender constraints, we need to take into \n",
        "  # account all/more recommendations\n",
        "  if len(pred)==0:\n",
        "    print(\"Oops! no results for these filter settings!\")\n",
        "  else:\n",
        "    print(\"=\"*15)\n",
        "    print(\"Top recommendations\")\n",
        "    print(\"=\"*15)\n",
        "\n",
        "    for i in pred:\n",
        "      print(trainset.to_raw_uid(i))\n",
        "   \n",
        "def plot_similarity_matrix():\n",
        "  matrix = algo.compute_similarities()\n",
        "  fig, ax = plt.subplots(1, 1, figsize=(8,8))\n",
        "  fig.canvas.draw()\n",
        "  image = ax.imshow(matrix, cmap=\"jet\")\n",
        "  #labels = ax.get_xticklabels(,)\n",
        "  fig.colorbar(image)\n",
        "  ax.set_xticklabels(['']+USERS, rotation=45,\n",
        "                     fontdict={\"fontsize\":12, \"color\":\"#914bd6\", \"fontfamily\":\"sans-serif\"})\n",
        "  ax.set_yticklabels(['']+USERS, rotation=45,\n",
        "                     fontdict={\"fontsize\":12, \"color\":\"#914bd6\", \"fontfamily\":\"sans-serif\", \"alpha\":0.9})  \n",
        "  \n",
        "  ax.set_title(\"Cosine Similarity Matrix\", fontdict={\"fontsize\":15, \"color\":\"#e69c12\"})\n",
        "\n",
        "#def update_model(): #TODO"
      ],
      "execution_count": 206,
      "outputs": []
    },
    {
      "cell_type": "code",
      "metadata": {
        "id": "tH_2C2iVnXsJ",
        "colab_type": "code",
        "colab": {
          "base_uri": "https://localhost:8080/",
          "height": 163
        },
        "outputId": "6f199115-a2ea-4027-f20e-20896290e338"
      },
      "source": [
        "data = create_data(USERS)"
      ],
      "execution_count": 156,
      "outputs": [
        {
          "output_type": "stream",
          "text": [
            "Taking cuisine info for Sarthak\n",
            "Taking cuisine info for Tanya\n",
            "Taking cuisine info for Prachi\n",
            "Taking cuisine info for Ram\n",
            "Taking cuisine info for Dodge\n",
            "Taking cuisine info for Neha\n",
            "Taking cuisine info for Samarth\n",
            "Taking cuisine info for Andrej\n"
          ],
          "name": "stdout"
        }
      ]
    },
    {
      "cell_type": "code",
      "metadata": {
        "id": "1UP_TiZ2noxF",
        "colab_type": "code",
        "colab": {
          "base_uri": "https://localhost:8080/",
          "height": 198
        },
        "outputId": "bbc3cf9f-558e-48f2-a652-c45f10337640"
      },
      "source": [
        "data.sample(5)"
      ],
      "execution_count": null,
      "outputs": [
        {
          "output_type": "execute_result",
          "data": {
            "text/html": [
              "<div>\n",
              "<style scoped>\n",
              "    .dataframe tbody tr th:only-of-type {\n",
              "        vertical-align: middle;\n",
              "    }\n",
              "\n",
              "    .dataframe tbody tr th {\n",
              "        vertical-align: top;\n",
              "    }\n",
              "\n",
              "    .dataframe thead th {\n",
              "        text-align: right;\n",
              "    }\n",
              "</style>\n",
              "<table border=\"1\" class=\"dataframe\">\n",
              "  <thead>\n",
              "    <tr style=\"text-align: right;\">\n",
              "      <th></th>\n",
              "      <th>u_id</th>\n",
              "      <th>cusine</th>\n",
              "      <th>rating</th>\n",
              "    </tr>\n",
              "  </thead>\n",
              "  <tbody>\n",
              "    <tr>\n",
              "      <th>31</th>\n",
              "      <td>Samarth</td>\n",
              "      <td>Italian</td>\n",
              "      <td>1.437</td>\n",
              "    </tr>\n",
              "    <tr>\n",
              "      <th>33</th>\n",
              "      <td>Samarth</td>\n",
              "      <td>Mongolian</td>\n",
              "      <td>1.425</td>\n",
              "    </tr>\n",
              "    <tr>\n",
              "      <th>23</th>\n",
              "      <td>Dodge</td>\n",
              "      <td>Mongolian</td>\n",
              "      <td>1.235</td>\n",
              "    </tr>\n",
              "    <tr>\n",
              "      <th>19</th>\n",
              "      <td>Ram</td>\n",
              "      <td>Chinese</td>\n",
              "      <td>2.767</td>\n",
              "    </tr>\n",
              "    <tr>\n",
              "      <th>0</th>\n",
              "      <td>Sarthak</td>\n",
              "      <td>Indian</td>\n",
              "      <td>3.426</td>\n",
              "    </tr>\n",
              "  </tbody>\n",
              "</table>\n",
              "</div>"
            ],
            "text/plain": [
              "       u_id     cusine  rating\n",
              "31  Samarth    Italian   1.437\n",
              "33  Samarth  Mongolian   1.425\n",
              "23    Dodge  Mongolian   1.235\n",
              "19      Ram    Chinese   2.767\n",
              "0   Sarthak     Indian   3.426"
            ]
          },
          "metadata": {
            "tags": []
          },
          "execution_count": 102
        }
      ]
    },
    {
      "cell_type": "code",
      "metadata": {
        "id": "pZ5d4YbcEFPY",
        "colab_type": "code",
        "colab": {
          "base_uri": "https://localhost:8080/",
          "height": 72
        },
        "outputId": "36c1ce9f-0338-4776-c7d6-8ca33d72ff5b"
      },
      "source": [
        "df = data\n",
        "reader = Reader(rating_scale=(1, 5))\n",
        "dataset = Dataset.load_from_df(df[[\"u_id\", \"cusine\", \"rating\"]], reader)\n",
        "trainset = dataset.build_full_trainset()\n",
        "algo = KNNWithMeans(k=NUM_USERS//2,sim_options=SIM_OPT, verbose=1)\n",
        "algo.fit(trainset)"
      ],
      "execution_count": null,
      "outputs": [
        {
          "output_type": "stream",
          "text": [
            "Computing the cosine similarity matrix...\n",
            "Done computing similarity matrix.\n"
          ],
          "name": "stdout"
        },
        {
          "output_type": "execute_result",
          "data": {
            "text/plain": [
              "<surprise.prediction_algorithms.knns.KNNWithMeans at 0x7f83ba2aca58>"
            ]
          },
          "metadata": {
            "tags": []
          },
          "execution_count": 104
        }
      ]
    },
    {
      "cell_type": "code",
      "metadata": {
        "id": "bAORwv4Obq2R",
        "colab_type": "code",
        "colab": {
          "base_uri": "https://localhost:8080/",
          "height": 472
        },
        "outputId": "7ba7de4e-61c7-4055-a895-3e8528f1ad50"
      },
      "source": [
        "get_recommendations(\"Prachi\", {\"Indian\":3.32, \"Italian\":1.21, \"Mongolian\":5.0, \"Chinese\":2.0, \"French\":2.1})"
      ],
      "execution_count": 161,
      "outputs": [
        {
          "output_type": "stream",
          "text": [
            "Before 10    4.32\n",
            "11    3.21\n",
            "12    0.00\n",
            "13    5.00\n",
            "14    2.10\n",
            "Name: rating, dtype: float64\n",
            "After 10    3.32\n",
            "11    1.21\n",
            "12    5.00\n",
            "13    2.00\n",
            "14    2.10\n",
            "Name: rating, dtype: float64\n",
            "===============\n",
            "Getting Recommendations ready\n",
            "===============\n",
            "Computing the cosine similarity matrix...\n",
            "Done computing similarity matrix.\n",
            "===============\n",
            "Top recommendations\n",
            "===============\n",
            "Tanya\n",
            "Sarthak\n",
            "Ram\n",
            "Neha\n",
            "Dodge\n"
          ],
          "name": "stdout"
        }
      ]
    },
    {
      "cell_type": "code",
      "metadata": {
        "id": "OVJ-miYFKmKr",
        "colab_type": "code",
        "colab": {
          "base_uri": "https://localhost:8080/",
          "height": 345
        },
        "outputId": "4b3e15ad-dd36-4768-b64c-0f76da467625"
      },
      "source": [
        "# Output the similarity matrix\n",
        "algo.compute_similarities()"
      ],
      "execution_count": 162,
      "outputs": [
        {
          "output_type": "stream",
          "text": [
            "Computing the cosine similarity matrix...\n",
            "Done computing similarity matrix.\n"
          ],
          "name": "stdout"
        },
        {
          "output_type": "execute_result",
          "data": {
            "text/plain": [
              "array([[1.        , 0.88288125, 0.81137272, 0.88397651, 0.77477973,\n",
              "        0.83049813, 0.72061975, 0.93814684],\n",
              "       [0.88288125, 1.        , 0.79974121, 0.90628691, 0.81132505,\n",
              "        0.89791096, 0.76151896, 0.8675477 ],\n",
              "       [0.81137272, 0.79974121, 1.        , 0.97537471, 0.89464731,\n",
              "        0.76884479, 0.9350418 , 0.93426906],\n",
              "       [0.88397651, 0.90628691, 0.97537471, 1.        , 0.93020073,\n",
              "        0.86776937, 0.93191238, 0.96946566],\n",
              "       [0.77477973, 0.81132505, 0.89464731, 0.93020073, 1.        ,\n",
              "        0.91128507, 0.93754303, 0.91991511],\n",
              "       [0.83049813, 0.89791096, 0.76884479, 0.86776937, 0.91128507,\n",
              "        1.        , 0.74712901, 0.8509637 ],\n",
              "       [0.72061975, 0.76151896, 0.9350418 , 0.93191238, 0.93754303,\n",
              "        0.74712901, 1.        , 0.91236909],\n",
              "       [0.93814684, 0.8675477 , 0.93426906, 0.96946566, 0.91991511,\n",
              "        0.8509637 , 0.91236909, 1.        ]])"
            ]
          },
          "metadata": {
            "tags": []
          },
          "execution_count": 162
        }
      ]
    },
    {
      "cell_type": "code",
      "metadata": {
        "id": "HprTFT4kOZZy",
        "colab_type": "code",
        "colab": {
          "base_uri": "https://localhost:8080/",
          "height": 535
        },
        "outputId": "a5bd5a7f-9bdb-45c8-99ce-c3e99fda898f"
      },
      "source": [
        "# Visualize the Similarity matrix\n",
        "plot_similarity_matrix()"
      ],
      "execution_count": 207,
      "outputs": [
        {
          "output_type": "stream",
          "text": [
            "Computing the cosine similarity matrix...\n",
            "Done computing similarity matrix.\n"
          ],
          "name": "stdout"
        },
        {
          "output_type": "display_data",
          "data": {
            "image/png": "[encoded data removed]",
            "text/plain": [
              "<Figure size 576x576 with 2 Axes>"
            ]
          },
          "metadata": {
            "tags": [],
            "needs_background": "light"
          }
        }
      ]
    },
    {
      "cell_type": "markdown",
      "metadata": {
        "id": "xGFzqwPN2HFK",
        "colab_type": "text"
      },
      "source": [
        "# Future Scope\n",
        "\n",
        "- Model Based Collborative Filtering to prevent training of model at every instance."
      ]
    },
    {
      "cell_type": "markdown",
      "metadata": {
        "id": "KGEdGl7RVYJE",
        "colab_type": "text"
      },
      "source": [
        "## Extras\n"
      ]
    },
    {
      "cell_type": "code",
      "metadata": {
        "id": "rybJK8UiWhdx",
        "colab_type": "code",
        "colab": {}
      },
      "source": [
        "# Pickling the model\n",
        "model_file = open(\"similarity_model.pkl\", \"wb\")\n",
        "pickle.dump(algo, model_file)\n",
        "model_file.close()"
      ],
      "execution_count": 219,
      "outputs": []
    },
    {
      "cell_type": "code",
      "metadata": {
        "id": "h4HDwepvcZ_W",
        "colab_type": "code",
        "colab": {}
      },
      "source": [
        "# Testing if the model is perfectly\n",
        "new_model_file = open(\"similarity_model.pkl\", \"rb\")\n",
        "new_algo = pickle.load(new_model_file)"
      ],
      "execution_count": 220,
      "outputs": []
    },
    {
      "cell_type": "code",
      "metadata": {
        "id": "9PuFmcjngH_J",
        "colab_type": "code",
        "colab": {}
      },
      "source": [
        ""
      ],
      "execution_count": null,
      "outputs": []
    }
  ]
}